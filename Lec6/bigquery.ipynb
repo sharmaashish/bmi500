{
 "cells": [
  {
   "cell_type": "markdown",
   "metadata": {},
   "source": [
    "% WARM UP"
   ]
  },
  {
   "cell_type": "code",
   "execution_count": null,
   "metadata": {},
   "outputs": [
    {
     "name": "stdout",
     "output_type": "stream",
     "text": [
      "Hello World\n"
     ]
    }
   ],
   "source": [
    "print(\"Hello World!\")"
   ]
  },
  {
   "cell_type": "code",
   "execution_count": 17,
   "metadata": {},
   "outputs": [
    {
     "name": "stdout",
     "output_type": "stream",
     "text": [
      "Hello World! Welcome to Notebooks!\n"
     ]
    }
   ],
   "source": [
    "def greet():\n",
    "    print('Hello World! Welcome to Notebooks!')\n",
    "    \n",
    "greet()"
   ]
  },
  {
   "cell_type": "code",
   "execution_count": 32,
   "metadata": {},
   "outputs": [
    {
     "name": "stderr",
     "output_type": "stream",
     "text": [
      "/usr/local/envs/py3env/lib/python3.5/site-packages/matplotlib/font_manager.py:1320: UserWarning: findfont: Font family ['Times New Roman'] not found. Falling back to DejaVu Sans\n",
      "  (prop.get_family(), self.defaultFamily[fontext]))\n"
     ]
    },
    {
     "data": {
      "image/png": "[encoded data removed]",
      "text/plain": [
       "<matplotlib.figure.Figure at 0x7f18cee2a4e0>"
      ]
     },
     "metadata": {},
     "output_type": "display_data"
    }
   ],
   "source": [
    "import matplotlib.pyplot as pl\n",
    "pl.plot([1,2,3,4,5], [1,4,9,16,25])\n",
    "pl.axis([0,6,0,30])\n",
    "pl.show()"
   ]
  },
  {
   "cell_type": "markdown",
   "metadata": {},
   "source": [
    "Sample BigQuery Command"
   ]
  },
  {
   "cell_type": "code",
   "execution_count": null,
   "metadata": {},
   "outputs": [],
   "source": [
    "%%bq query\n",
    "SELECT name,  gender,  SUM(number) AS total FROM  `bigquery-public-data.usa_names.usa_1910_2013`\n",
    "GROUP BY  name,  gender\n",
    "ORDER BY  total DESC\n",
    "LIMIT  10"
   ]
  },
  {
   "cell_type": "markdown",
   "metadata": {},
   "source": [
    "Sample BigQuery call within Python(3) Script "
   ]
  },
  {
   "cell_type": "code",
   "execution_count": 39,
   "metadata": {},
   "outputs": [],
   "source": [
    "from google.cloud import bigquery\n",
    "client = bigquery.Client()\n",
    "\n",
    "query = (\"\"\"SELECT  name, gender,  SUM(number) AS total FROM  `bigquery-public-data.usa_names.usa_1910_2013`\n",
    "         GROUP BY  name, gender\n",
    "         ORDER BY  total DESC\n",
    "         LIMIT  10\"\"\")\n",
    "\n",
    "query_job = client.query(\n",
    "    query,\n",
    "    # Location must match that of the dataset(s) referenced in the query.\n",
    "    location='US')  # API request - starts the query"
   ]
  },
  {
   "cell_type": "code",
   "execution_count": 40,
   "metadata": {},
   "outputs": [
    {
     "name": "stdout",
     "output_type": "stream",
     "text": [
      "Row(('James', 'M', 4924235), {'name': 0, 'gender': 1, 'total': 2})\n",
      "Row(('John', 'M', 4818746), {'name': 0, 'gender': 1, 'total': 2})\n",
      "Row(('Robert', 'M', 4703680), {'name': 0, 'gender': 1, 'total': 2})\n",
      "Row(('Michael', 'M', 4280040), {'name': 0, 'gender': 1, 'total': 2})\n",
      "Row(('William', 'M', 3811998), {'name': 0, 'gender': 1, 'total': 2})\n",
      "Row(('Mary', 'F', 3728041), {'name': 0, 'gender': 1, 'total': 2})\n",
      "Row(('David', 'M', 3541625), {'name': 0, 'gender': 1, 'total': 2})\n",
      "Row(('Richard', 'M', 2526927), {'name': 0, 'gender': 1, 'total': 2})\n",
      "Row(('Joseph', 'M', 2467298), {'name': 0, 'gender': 1, 'total': 2})\n",
      "Row(('Charles', 'M', 2237170), {'name': 0, 'gender': 1, 'total': 2})\n"
     ]
    }
   ],
   "source": [
    "for row in query_job:  # API request - fetches results\n",
    "    # Row values can be accessed by field name or index\n",
    "    assert row[0] == row.name == row['name']\n",
    "    print(row)"
   ]
  },
  {
   "cell_type": "markdown",
   "metadata": {},
   "source": [
    "Visualization with Datalab using Python and Pandas\n",
    "The data is natality data (record of births in the US). Goal is to predict the baby's weight given a number of factors about the pregnancy and the baby's mother. Later, we will want to split the data into training and eval datasets. The hash of the year-month will be used for that."
   ]
  },
  {
   "cell_type": "code",
   "execution_count": 41,
   "metadata": {},
   "outputs": [
    {
     "data": {
      "text/html": [
       "<div>\n",
       "<style scoped>\n",
       "    .dataframe tbody tr th:only-of-type {\n",
       "        vertical-align: middle;\n",
       "    }\n",
       "\n",
       "    .dataframe tbody tr th {\n",
       "        vertical-align: top;\n",
       "    }\n",
       "\n",
       "    .dataframe thead th {\n",
       "        text-align: right;\n",
       "    }\n",
       "</style>\n",
       "<table border=\"1\" class=\"dataframe\">\n",
       "  <thead>\n",
       "    <tr style=\"text-align: right;\">\n",
       "      <th></th>\n",
       "      <th>weight_pounds</th>\n",
       "      <th>is_male</th>\n",
       "      <th>mother_age</th>\n",
       "      <th>plurality</th>\n",
       "      <th>gestation_weeks</th>\n",
       "      <th>hashmonth</th>\n",
       "    </tr>\n",
       "  </thead>\n",
       "  <tbody>\n",
       "    <tr>\n",
       "      <th>0</th>\n",
       "      <td>6.686620</td>\n",
       "      <td>False</td>\n",
       "      <td>35</td>\n",
       "      <td>1</td>\n",
       "      <td>35</td>\n",
       "      <td>-1525201076796226340</td>\n",
       "    </tr>\n",
       "    <tr>\n",
       "      <th>1</th>\n",
       "      <td>5.937049</td>\n",
       "      <td>False</td>\n",
       "      <td>32</td>\n",
       "      <td>1</td>\n",
       "      <td>35</td>\n",
       "      <td>1088037545023002395</td>\n",
       "    </tr>\n",
       "    <tr>\n",
       "      <th>2</th>\n",
       "      <td>7.063611</td>\n",
       "      <td>False</td>\n",
       "      <td>28</td>\n",
       "      <td>1</td>\n",
       "      <td>35</td>\n",
       "      <td>-1403073183891835564</td>\n",
       "    </tr>\n",
       "    <tr>\n",
       "      <th>3</th>\n",
       "      <td>6.124442</td>\n",
       "      <td>False</td>\n",
       "      <td>37</td>\n",
       "      <td>1</td>\n",
       "      <td>36</td>\n",
       "      <td>6691862025345277042</td>\n",
       "    </tr>\n",
       "    <tr>\n",
       "      <th>4</th>\n",
       "      <td>5.000084</td>\n",
       "      <td>False</td>\n",
       "      <td>35</td>\n",
       "      <td>2</td>\n",
       "      <td>36</td>\n",
       "      <td>6392072535155213407</td>\n",
       "    </tr>\n",
       "  </tbody>\n",
       "</table>\n",
       "</div>"
      ],
      "text/plain": [
       "   weight_pounds  is_male  mother_age  plurality  gestation_weeks  \\\n",
       "0       6.686620    False          35          1               35   \n",
       "1       5.937049    False          32          1               35   \n",
       "2       7.063611    False          28          1               35   \n",
       "3       6.124442    False          37          1               36   \n",
       "4       5.000084    False          35          2               36   \n",
       "\n",
       "             hashmonth  \n",
       "0 -1525201076796226340  \n",
       "1  1088037545023002395  \n",
       "2 -1403073183891835564  \n",
       "3  6691862025345277042  \n",
       "4  6392072535155213407  "
      ]
     },
     "execution_count": 41,
     "metadata": {},
     "output_type": "execute_result"
    }
   ],
   "source": [
    "query=\"\"\"\n",
    "SELECT  weight_pounds,  is_male,  mother_age,  plurality,  gestation_weeks,\n",
    "  FARM_FINGERPRINT(CONCAT(CAST(YEAR AS STRING), CAST(month AS STRING))) AS hashmonth\n",
    "FROM\n",
    "  publicdata.samples.natality\n",
    "WHERE year > 2000\n",
    "\"\"\"\n",
    "import google.datalab.bigquery as bq\n",
    "df = bq.Query(query + \" LIMIT 100\").execute().result().to_dataframe()\n",
    "df.head()"
   ]
  },
  {
   "cell_type": "markdown",
   "metadata": {},
   "source": [
    "Let's write a query to find the unique values for each of the columns and the count of those values."
   ]
  },
  {
   "cell_type": "code",
   "execution_count": 42,
   "metadata": {},
   "outputs": [
    {
     "name": "stderr",
     "output_type": "stream",
     "text": [
      "/usr/local/envs/py3env/lib/python3.5/site-packages/matplotlib/font_manager.py:1320: UserWarning: findfont: Font family ['Times New Roman'] not found. Falling back to DejaVu Sans\n",
      "  (prop.get_family(), self.defaultFamily[fontext]))\n"
     ]
    },
    {
     "data": {
      "image/png": "[encoded data removed]",
      "text/plain": [
       "<matplotlib.figure.Figure at 0x7f18cc2f1fd0>"
      ]
     },
     "metadata": {},
     "output_type": "display_data"
    },
    {
     "data": {
      "image/png": "[encoded data removed]",
      "text/plain": [
       "<matplotlib.figure.Figure at 0x7f18cc2636a0>"
      ]
     },
     "metadata": {},
     "output_type": "display_data"
    }
   ],
   "source": [
    "def get_distinct_values(column_name):\n",
    "    sql = \"\"\"\n",
    "SELECT  {0},  COUNT(1) AS num_babies,  AVG(weight_pounds) AS avg_wt\n",
    "FROM    publicdata.samples.natality\n",
    "WHERE   year > 2000\n",
    "GROUP BY  {0}    \"\"\".format(column_name)\n",
    "    return bq.Query(sql).execute().result().to_dataframe()\n",
    "df = get_distinct_values('is_male')\n",
    "df.plot(x='is_male', y='num_babies', kind='bar');\n",
    "df.plot(x='is_male', y='avg_wt', kind='bar');"
   ]
  },
  {
   "cell_type": "code",
   "execution_count": 43,
   "metadata": {},
   "outputs": [
    {
     "name": "stderr",
     "output_type": "stream",
     "text": [
      "/usr/local/envs/py3env/lib/python3.5/site-packages/matplotlib/font_manager.py:1320: UserWarning: findfont: Font family ['Times New Roman'] not found. Falling back to DejaVu Sans\n",
      "  (prop.get_family(), self.defaultFamily[fontext]))\n"
     ]
    },
    {
     "data": {
      "image/png": "[encoded data removed]",
      "text/plain": [
       "<matplotlib.figure.Figure at 0x7f18cc7669b0>"
      ]
     },
     "metadata": {},
     "output_type": "display_data"
    },
    {
     "data": {
      "image/png": "[encoded data removed]",
      "text/plain": [
       "<matplotlib.figure.Figure at 0x7f18cc2ddfd0>"
      ]
     },
     "metadata": {},
     "output_type": "display_data"
    }
   ],
   "source": [
    "df = get_distinct_values('mother_age')\n",
    "df = df.sort_values('mother_age')\n",
    "df.plot(x='mother_age', y='num_babies');\n",
    "df.plot(x='mother_age', y='avg_wt');"
   ]
  },
  {
   "cell_type": "code",
   "execution_count": 44,
   "metadata": {},
   "outputs": [
    {
     "name": "stderr",
     "output_type": "stream",
     "text": [
      "/usr/local/envs/py3env/lib/python3.5/site-packages/matplotlib/font_manager.py:1320: UserWarning: findfont: Font family ['Times New Roman'] not found. Falling back to DejaVu Sans\n",
      "  (prop.get_family(), self.defaultFamily[fontext]))\n"
     ]
    },
    {
     "data": {
      "image/png": "[encoded data removed]",
      "text/plain": [
       "<matplotlib.figure.Figure at 0x7f18cc275b70>"
      ]
     },
     "metadata": {},
     "output_type": "display_data"
    },
    {
     "data": {
      "image/png": "[encoded data removed]",
      "text/plain": [
       "<matplotlib.figure.Figure at 0x7f18cc8dac88>"
      ]
     },
     "metadata": {},
     "output_type": "display_data"
    }
   ],
   "source": [
    "df = get_distinct_values('gestation_weeks')\n",
    "df = df.sort_values('gestation_weeks')\n",
    "df.plot(x='gestation_weeks', y='num_babies', logy=True, kind='bar');\n",
    "df.plot(x='gestation_weeks', y='avg_wt', kind='bar');"
   ]
  },
  {
   "cell_type": "markdown",
   "metadata": {},
   "source": []
  },
  {
   "cell_type": "code",
   "execution_count": null,
   "metadata": {},
   "outputs": [],
   "source": [
    "Create a Linear Regression Model to Predict Birth weight using  BigQuery"
   ]
  },
  {
   "cell_type": "code",
   "execution_count": 45,
   "metadata": {},
   "outputs": [
    {
     "data": {
      "text/html": [
       "Done"
      ],
      "text/plain": [
       "QueryResultsTable job_PEqLerU3L_5Nvh9ioePcYRxFHuNs"
      ]
     },
     "execution_count": 45,
     "metadata": {},
     "output_type": "execute_result"
    }
   ],
   "source": [
    "%%bq query\n",
    "#standardSQL\n",
    "CREATE OR REPLACE MODEL  `bqml_tutorial.natality_model`\n",
    "OPTIONS\n",
    "  (model_type='linear_reg',\n",
    "    input_label_cols=['weight_pounds']) AS\n",
    "SELECT  weight_pounds,  is_male,  gestation_weeks,  mother_age,\n",
    "  CAST(mother_race AS string) AS mother_race\n",
    "FROM\n",
    "  `bigquery-public-data.samples.natality`\n",
    "WHERE\n",
    "  weight_pounds IS NOT NULL\n",
    "  AND RAND() < 0.001"
   ]
  },
  {
   "cell_type": "markdown",
   "metadata": {},
   "source": [
    "Model evaludation using  BigQuery"
   ]
  },
  {
   "cell_type": "code",
   "execution_count": 3,
   "metadata": {},
   "outputs": [
    {
     "data": {
      "text/html": [
       "\n",
       "    <div class=\"bqtv\" id=\"1_153851947936\"><table><tr><th>mean_absolute_error</th><th>mean_squared_error</th><th>mean_squared_log_error</th><th>median_absolute_error</th><th>r2_score</th><th>explained_variance</th></tr><tr><td>0.9549077095427253</td><td>1.6782848627735483</td><td>0.03443807543454127</td><td>0.7352816429195936</td><td>0.0449984366347006</td><td>0.04542803742005974</td></tr></table></div>\n",
       "    <br />(rows: 1, time: 6.4s,     4GB processed, job: job_c2B6b_v6fZd6PUcQCQd9g_rCaadn)<br />\n",
       "    <script src=\"/static/components/requirejs/require.js\"></script>\n",
       "    <script>\n",
       "      require.config({\n",
       "        paths: {\n",
       "          base: '/static/base',\n",
       "          d3: '//cdnjs.cloudflare.com/ajax/libs/d3/3.4.13/d3',\n",
       "          plotly: 'https://cdn.plot.ly/plotly-1.5.1.min.js?noext',\n",
       "          jquery: '//ajax.googleapis.com/ajax/libs/jquery/2.0.0/jquery.min'\n",
       "        },\n",
       "        map: {\n",
       "          '*': {\n",
       "            datalab: 'nbextensions/gcpdatalab'\n",
       "          }\n",
       "        },\n",
       "        shim: {\n",
       "          plotly: {\n",
       "            deps: ['d3', 'jquery'],\n",
       "            exports: 'plotly'\n",
       "          }\n",
       "        }\n",
       "      });\n",
       "\n",
       "      require(['datalab/charting', 'datalab/element!1_153851947936', 'base/js/events',\n",
       "          'datalab/style!/nbextensions/gcpdatalab/charting.css'],\n",
       "        function(charts, dom, events) {\n",
       "          charts.render('gcharts', dom, events, 'table', [], {\"rows\": [{\"c\": [{\"v\": 0.9549077095427253}, {\"v\": 1.6782848627735483}, {\"v\": 0.03443807543454127}, {\"v\": 0.7352816429195936}, {\"v\": 0.0449984366347006}, {\"v\": 0.04542803742005974}]}], \"cols\": [{\"label\": \"mean_absolute_error\", \"type\": \"number\", \"id\": \"mean_absolute_error\"}, {\"label\": \"mean_squared_error\", \"type\": \"number\", \"id\": \"mean_squared_error\"}, {\"label\": \"mean_squared_log_error\", \"type\": \"number\", \"id\": \"mean_squared_log_error\"}, {\"label\": \"median_absolute_error\", \"type\": \"number\", \"id\": \"median_absolute_error\"}, {\"label\": \"r2_score\", \"type\": \"number\", \"id\": \"r2_score\"}, {\"label\": \"explained_variance\", \"type\": \"number\", \"id\": \"explained_variance\"}]},\n",
       "            {\n",
       "              pageSize: 25,\n",
       "              cssClassNames:  {\n",
       "                tableRow: 'gchart-table-row',\n",
       "                headerRow: 'gchart-table-headerrow',\n",
       "                oddTableRow: 'gchart-table-oddrow',\n",
       "                selectedTableRow: 'gchart-table-selectedrow',\n",
       "                hoverTableRow: 'gchart-table-hoverrow',\n",
       "                tableCell: 'gchart-table-cell',\n",
       "                headerCell: 'gchart-table-headercell',\n",
       "                rowNumberCell: 'gchart-table-rownumcell'\n",
       "              }\n",
       "            },\n",
       "            {source_index: 0, fields: 'mean_absolute_error,mean_squared_error,mean_squared_log_error,median_absolute_error,r2_score,explained_variance'},\n",
       "            0,\n",
       "            1);\n",
       "        }\n",
       "      );\n",
       "    </script>\n",
       "  "
      ],
      "text/plain": [
       "QueryResultsTable job_c2B6b_v6fZd6PUcQCQd9g_rCaadn"
      ]
     },
     "execution_count": 3,
     "metadata": {},
     "output_type": "execute_result"
    }
   ],
   "source": [
    "%%bq query\n",
    "#standardSQL\n",
    "SELECT\n",
    "  *\n",
    "FROM\n",
    "  ML.EVALUATE(MODEL `bqml_tutorial.natality_model`,\n",
    "    (\n",
    "    SELECT      weight_pounds,      is_male,      gestation_weeks,      mother_age,\n",
    "      CAST(mother_race AS STRING) AS mother_race\n",
    "    FROM\n",
    "      `bigquery-public-data.samples.natality`\n",
    "    WHERE\n",
    "      weight_pounds IS NOT NULL))"
   ]
  },
  {
   "cell_type": "markdown",
   "metadata": {},
   "source": [
    "Prediction of Birth Weight for the State of Wyoming using  BigQuery"
   ]
  },
  {
   "cell_type": "code",
   "execution_count": 5,
   "metadata": {},
   "outputs": [
    {
     "data": {
      "text/html": [
       "\n",
       "    <div class=\"bqtv\" id=\"2_153852003667\"><table><tr><th>predicted_weight_pounds</th></tr><tr><td>7.600125782017585</td></tr><tr><td>7.600125782017585</td></tr><tr><td>7.600125782017585</td></tr><tr><td>7.600125782017585</td></tr><tr><td>7.600125782017585</td></tr><tr><td>7.600125782017585</td></tr><tr><td>7.600125782017585</td></tr><tr><td>7.600125782017585</td></tr><tr><td>7.600125782017585</td></tr><tr><td>7.600125782017585</td></tr><tr><td>7.600125782017585</td></tr><tr><td>7.600125782017585</td></tr><tr><td>7.600125782017585</td></tr><tr><td>7.600125782017585</td></tr><tr><td>7.600125782017585</td></tr><tr><td>7.600125782017585</td></tr><tr><td>7.600125782017585</td></tr><tr><td>7.600125782017585</td></tr><tr><td>7.600125782017585</td></tr><tr><td>7.600125782017585</td></tr><tr><td>7.600125782017585</td></tr><tr><td>7.600125782017585</td></tr><tr><td>7.600125782017585</td></tr><tr><td>7.600125782017585</td></tr><tr><td>7.689902284650998</td></tr></table></div>\n",
       "    <br />(rows: 218735, time: 3.1s,     3GB processed, job: job_KOu4aoWhawRKhIBGVrH0UX3Yq3sI)<br />\n",
       "    <script src=\"/static/components/requirejs/require.js\"></script>\n",
       "    <script>\n",
       "      require.config({\n",
       "        paths: {\n",
       "          base: '/static/base',\n",
       "          d3: '//cdnjs.cloudflare.com/ajax/libs/d3/3.4.13/d3',\n",
       "          plotly: 'https://cdn.plot.ly/plotly-1.5.1.min.js?noext',\n",
       "          jquery: '//ajax.googleapis.com/ajax/libs/jquery/2.0.0/jquery.min'\n",
       "        },\n",
       "        map: {\n",
       "          '*': {\n",
       "            datalab: 'nbextensions/gcpdatalab'\n",
       "          }\n",
       "        },\n",
       "        shim: {\n",
       "          plotly: {\n",
       "            deps: ['d3', 'jquery'],\n",
       "            exports: 'plotly'\n",
       "          }\n",
       "        }\n",
       "      });\n",
       "\n",
       "      require(['datalab/charting', 'datalab/element!2_153852003667', 'base/js/events',\n",
       "          'datalab/style!/nbextensions/gcpdatalab/charting.css'],\n",
       "        function(charts, dom, events) {\n",
       "          charts.render('gcharts', dom, events, 'paged_table', [], {\"rows\": [{\"c\": [{\"v\": 7.600125782017585}]}, {\"c\": [{\"v\": 7.600125782017585}]}, {\"c\": [{\"v\": 7.600125782017585}]}, {\"c\": [{\"v\": 7.600125782017585}]}, {\"c\": [{\"v\": 7.600125782017585}]}, {\"c\": [{\"v\": 7.600125782017585}]}, {\"c\": [{\"v\": 7.600125782017585}]}, {\"c\": [{\"v\": 7.600125782017585}]}, {\"c\": [{\"v\": 7.600125782017585}]}, {\"c\": [{\"v\": 7.600125782017585}]}, {\"c\": [{\"v\": 7.600125782017585}]}, {\"c\": [{\"v\": 7.600125782017585}]}, {\"c\": [{\"v\": 7.600125782017585}]}, {\"c\": [{\"v\": 7.600125782017585}]}, {\"c\": [{\"v\": 7.600125782017585}]}, {\"c\": [{\"v\": 7.600125782017585}]}, {\"c\": [{\"v\": 7.600125782017585}]}, {\"c\": [{\"v\": 7.600125782017585}]}, {\"c\": [{\"v\": 7.600125782017585}]}, {\"c\": [{\"v\": 7.600125782017585}]}, {\"c\": [{\"v\": 7.600125782017585}]}, {\"c\": [{\"v\": 7.600125782017585}]}, {\"c\": [{\"v\": 7.600125782017585}]}, {\"c\": [{\"v\": 7.600125782017585}]}, {\"c\": [{\"v\": 7.689902284650998}]}], \"cols\": [{\"label\": \"predicted_weight_pounds\", \"type\": \"number\", \"id\": \"predicted_weight_pounds\"}]},\n",
       "            {\n",
       "              pageSize: 25,\n",
       "              cssClassNames:  {\n",
       "                tableRow: 'gchart-table-row',\n",
       "                headerRow: 'gchart-table-headerrow',\n",
       "                oddTableRow: 'gchart-table-oddrow',\n",
       "                selectedTableRow: 'gchart-table-selectedrow',\n",
       "                hoverTableRow: 'gchart-table-hoverrow',\n",
       "                tableCell: 'gchart-table-cell',\n",
       "                headerCell: 'gchart-table-headercell',\n",
       "                rowNumberCell: 'gchart-table-rownumcell'\n",
       "              }\n",
       "            },\n",
       "            {source_index: 1, fields: 'predicted_weight_pounds'},\n",
       "            0,\n",
       "            218735);\n",
       "        }\n",
       "      );\n",
       "    </script>\n",
       "  "
      ],
      "text/plain": [
       "QueryResultsTable job_KOu4aoWhawRKhIBGVrH0UX3Yq3sI"
      ]
     },
     "execution_count": 5,
     "metadata": {},
     "output_type": "execute_result"
    }
   ],
   "source": [
    "%%bq query\n",
    "#standardSQL\n",
    "SELECT\n",
    "  predicted_weight_pounds\n",
    "FROM\n",
    "  ML.PREDICT(MODEL `bqml_tutorial.natality_model`,\n",
    "    (\n",
    "    SELECT      is_male,      gestation_weeks,      mother_age,\n",
    "      CAST(mother_race AS STRING) AS mother_race\n",
    "    FROM\n",
    "      `bigquery-public-data.samples.natality`\n",
    "    WHERE\n",
    "      state = \"WY\"))"
   ]
  },
  {
   "cell_type": "markdown",
   "metadata": {},
   "source": []
  },
  {
   "cell_type": "code",
   "execution_count": null,
   "metadata": {},
   "outputs": [],
   "source": []
  }
 ],
 "metadata": {
  "kernelspec": {
   "display_name": "Python 3",
   "language": "python",
   "name": "python3"
  },
  "language_info": {
   "codemirror_mode": {
    "name": "ipython",
    "version": 3
   },
   "file_extension": ".py",
   "mimetype": "text/x-python",
   "name": "python",
   "nbconvert_exporter": "python",
   "pygments_lexer": "ipython3",
   "version": "3.5.5"
  }
 },
 "nbformat": 4,
 "nbformat_minor": 2
}
